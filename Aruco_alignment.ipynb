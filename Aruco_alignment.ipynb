{
 "cells": [
  {
   "cell_type": "code",
   "execution_count": null,
   "id": "ef41e220",
   "metadata": {},
   "outputs": [],
   "source": [
    "import cv2\n",
    "from cv2 import aruco\n",
    "import numpy as np\n",
    "import matplotlib.pyplot as plt"
   ]
  },
  {
   "cell_type": "code",
   "execution_count": null,
   "id": "974da5d9",
   "metadata": {},
   "outputs": [],
   "source": [
    "image_path = 'IMG_4171.jpg'\n",
    "\n",
    "image = cv2.imread(image_path)"
   ]
  },
  {
   "cell_type": "code",
   "execution_count": null,
   "id": "19d17551",
   "metadata": {},
   "outputs": [],
   "source": [
    "gray = cv2.cvtColor(image, cv2.COLOR_BGR2GRAY)\n",
    "\n",
    "## Potentially we can use thresholding for aruco recognition, \n",
    "## but it work fine even of raw image\n",
    "\n",
    "# gray = cv2.medianBlur(gray, 5)\n",
    "# gray = cv2.adaptiveThreshold(gray,255,cv2.ADAPTIVE_THRESH_GAUSSIAN_C, cv2.THRESH_BINARY,91,5)\n",
    "# gray = sharp.astype(np.uint8)\n",
    "\n",
    "aruco_dict = aruco.Dictionary_get(aruco.DICT_ARUCO_ORIGINAL)\n",
    "parameters =  aruco.DetectorParameters_create()\n",
    "corners, ids, rejectedImgPoints = aruco.detectMarkers(gray, aruco_dict, parameters=parameters)\n",
    "image_markers = aruco.drawDetectedMarkers(image.copy(), corners, ids)"
   ]
  },
  {
   "cell_type": "code",
   "execution_count": null,
   "id": "5ed72c3d",
   "metadata": {},
   "outputs": [],
   "source": [
    "plt.figure(figsize=(10, 10))\n",
    "plt.imshow(image_markers)\n",
    "for i in range(len(ids)):\n",
    "    c = corners[i][0]\n",
    "    plt.plot([c[0, 0]], [c[0, 1]], \"o\", label = \"id={0}\".format(ids[i]))\n",
    "plt.legend()\n",
    "plt.show()"
   ]
  },
  {
   "cell_type": "code",
   "execution_count": null,
   "id": "fe302271",
   "metadata": {},
   "outputs": [],
   "source": [
    "# Coordinates in the space of original image\n",
    "\n",
    "pts1 = np.array([[151, 128], [252, 4563], [3205, 4564], [3307, 0]]).astype(np.float32)"
   ]
  },
  {
   "cell_type": "code",
   "execution_count": null,
   "id": "0bda1a48",
   "metadata": {},
   "outputs": [],
   "source": [
    "# Coordinates in the space of photo\n",
    "# Last point is the top right corner, measured manually \n",
    "\n",
    "pts2 = np.stack([corners[list(ids.T[0]).index(125)][0][0], corners[list(ids.T[0]).index(75)][0][2], \n",
    "                 corners[list(ids.T[0]).index(18)][0][2], [2065, 218]]).astype(np.float32)"
   ]
  },
  {
   "cell_type": "code",
   "execution_count": null,
   "id": "23ea737d",
   "metadata": {},
   "outputs": [],
   "source": [
    "plt.figure(figsize=(10, 10))\n",
    "plt.imshow(image_markers)\n",
    "plt.scatter(pts2[:, 0], pts2[:, 1])\n",
    "plt.show()"
   ]
  },
  {
   "cell_type": "code",
   "execution_count": null,
   "id": "eef60ce5",
   "metadata": {},
   "outputs": [],
   "source": [
    "image_orig_size = (3307, 4677)\n",
    "M = cv2.getPerspectiveTransform(pts2,pts1)\n",
    "dst = cv2.warpPerspective(image_markers, M, image_orig_size)\n",
    "\n",
    "plt.figure(figsize=(12, 12))\n",
    "plt.subplot(121),plt.imshow(image_markers),plt.title('Input')\n",
    "plt.subplot(122),plt.imshow(dst),plt.title('Output')\n",
    "plt.show()"
   ]
  },
  {
   "cell_type": "code",
   "execution_count": null,
   "id": "5d1b6767",
   "metadata": {},
   "outputs": [],
   "source": [
    "from matplotlib.patches import RegularPolygon\n",
    "plt.figure(figsize=(12, 12))\n",
    "\n",
    "gray = dst\n",
    "gray = cv2.cvtColor(gray, cv2.COLOR_BGR2GRAY)\n",
    "gray = cv2.medianBlur(gray, 13)\n",
    "gray = cv2.adaptiveThreshold(gray,255,cv2.ADAPTIVE_THRESH_GAUSSIAN_C, cv2.THRESH_BINARY,91,5)\n",
    "gray = gray.astype(np.uint8)\n",
    "\n",
    "plt.imshow(gray, cmap='Greys_r')\n",
    "\n",
    "# Coordinates of top left hexagon center\n",
    "y = 1174\n",
    "x = 235 \n",
    "\n",
    "# Hexagon radius\n",
    "r = 75\n",
    "\n",
    "# Hexagon perpendicular\n",
    "h = 65.25\n",
    "\n",
    "'''       ____\n",
    "         /    \\r      \n",
    "        /      \\\n",
    "        \\  h|  /\n",
    "         \\__|_/'''\n",
    "\n",
    "for col_num in range(27):\n",
    "    for row_num in range(26):\n",
    "        hexagon = RegularPolygon((x + r * 1.5 * col_num, 1174 + row_num * h * 2 + (col_num % 2) * h), numVertices=6, \n",
    "                                 radius=r, alpha=0.2, edgecolor='k', orientation=np.pi/2)\n",
    "        plt.gca().add_patch(hexagon)\n",
    "\n",
    "plt.scatter([x], [y])"
   ]
  },
  {
   "cell_type": "code",
   "execution_count": null,
   "id": "eca9ffdc",
   "metadata": {},
   "outputs": [],
   "source": []
  }
 ],
 "metadata": {
  "kernelspec": {
   "display_name": "elephants",
   "language": "python",
   "name": "elephants"
  },
  "language_info": {
   "codemirror_mode": {
    "name": "ipython",
    "version": 3
   },
   "file_extension": ".py",
   "mimetype": "text/x-python",
   "name": "python",
   "nbconvert_exporter": "python",
   "pygments_lexer": "ipython3",
   "version": "3.9.12"
  }
 },
 "nbformat": 4,
 "nbformat_minor": 5
}
