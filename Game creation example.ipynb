{
 "cells": [
  {
   "cell_type": "code",
   "execution_count": 1,
   "id": "6c8a0c45",
   "metadata": {},
   "outputs": [],
   "source": [
    "from coffeegame import CoffeeGame\n",
    "from pathlib import Path"
   ]
  },
  {
   "cell_type": "code",
   "execution_count": 2,
   "id": "fdb9f15c",
   "metadata": {},
   "outputs": [],
   "source": [
    "cg = CoffeeGame([\"Player 1\", \"Player 2\", \"Player 3\", \"Player 4\", \"Player 5\", \"Player 6\", \"Player 7\"])"
   ]
  },
  {
   "cell_type": "code",
   "execution_count": 3,
   "id": "efb325a5",
   "metadata": {},
   "outputs": [],
   "source": [
    "Path(\"game_example\").mkdir(exist_ok=True)"
   ]
  },
  {
   "cell_type": "code",
   "execution_count": 4,
   "id": "0b6f5e8c",
   "metadata": {
    "scrolled": false
   },
   "outputs": [
    {
     "name": "stderr",
     "output_type": "stream",
     "text": [
      "FFTM NOT subset; don't know how to subset; dropped\n",
      "FFTM NOT subset; don't know how to subset; dropped\n",
      "FFTM NOT subset; don't know how to subset; dropped\n"
     ]
    }
   ],
   "source": [
    "cg.generate_game_field(\"game_example/1.pdf\")"
   ]
  },
  {
   "cell_type": "code",
   "execution_count": null,
   "id": "02771edb",
   "metadata": {},
   "outputs": [],
   "source": []
  }
 ],
 "metadata": {
  "kernelspec": {
   "display_name": "Python 3 (ipykernel)",
   "language": "python",
   "name": "python3"
  },
  "language_info": {
   "codemirror_mode": {
    "name": "ipython",
    "version": 3
   },
   "file_extension": ".py",
   "mimetype": "text/x-python",
   "name": "python",
   "nbconvert_exporter": "python",
   "pygments_lexer": "ipython3",
   "version": "3.10.4"
  }
 },
 "nbformat": 4,
 "nbformat_minor": 5
}
